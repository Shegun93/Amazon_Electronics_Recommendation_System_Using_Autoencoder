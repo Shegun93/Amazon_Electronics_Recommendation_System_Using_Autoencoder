{
  "nbformat": 4,
  "nbformat_minor": 0,
  "metadata": {
    "colab": {
      "name": "Jasmin_recommendation.ipynb",
      "provenance": [],
      "collapsed_sections": []
    },
    "kernelspec": {
      "name": "python3",
      "display_name": "Python 3"
    },
    "language_info": {
      "name": "python"
    }
  },
  "cells": [
    {
      "cell_type": "markdown",
      "source": [
        "import library"
      ],
      "metadata": {
        "id": "vs_8SuBrtfOA"
      }
    },
    {
      "cell_type": "code",
      "execution_count": null,
      "metadata": {
        "id": "nymyaqqUUSBl"
      },
      "outputs": [],
      "source": [
        "import sklearn\n",
        "import numpy as np\n",
        "import pandas as pd\n",
        "import torch\n",
        "import torch.nn as nn\n",
        "import torch.nn.parallel\n",
        "import torch.optim as optim\n",
        "import torch.utils.data\n",
        "from torch.autograd import Variable"
      ]
    },
    {
      "cell_type": "markdown",
      "source": [
        "Import dataset"
      ],
      "metadata": {
        "id": "vBDl_e6Gtr2G"
      }
    },
    {
      "cell_type": "code",
      "source": [
        "amazon = pd.read_csv('ratings_Electronics.csv',\n",
        "                     encoding = 'latin-1', names=['userID','ProductID',\n",
        "                                           'Ratings','Timestamp'])"
      ],
      "metadata": {
        "id": "-UtSuPHKVA_s"
      },
      "execution_count": null,
      "outputs": []
    },
    {
      "cell_type": "code",
      "source": [
        "recommend = amazon.sample(frac=0.1)\n"
      ],
      "metadata": {
        "id": "C5si-v6QVJuu"
      },
      "execution_count": null,
      "outputs": []
    },
    {
      "cell_type": "code",
      "source": [
        "\n",
        "del amazon\n",
        "#training_set.info()\n",
        "#amazon['productID'].factorize\n",
        "recommend['productID'] = pd.factorize(recommend['ProductID'])[0]\n",
        "recommend['UserID'] = pd.factorize(recommend['userID'])[0]\n",
        "recommend.drop(['userID', 'ProductID'], axis=1, inplace=True)\n",
        "columns = ['UserID', 'productID', 'Ratings', 'Timestamp']\n",
        "recommend.reindex(columns = columns)\n",
        "new=recommend.head(n=100)"
      ],
      "metadata": {
        "id": "v0Q_b0_nVREA"
      },
      "execution_count": null,
      "outputs": []
    },
    {
      "cell_type": "markdown",
      "source": [
        "Splitting dataset into training_set and test_set"
      ],
      "metadata": {
        "id": "jHxOUCxUtyNn"
      }
    },
    {
      "cell_type": "code",
      "source": [
        "\n",
        "from sklearn.model_selection import train_test_split\n",
        "training_set, test_set = train_test_split(recommend, random_state=42,test_size=0.2)"
      ],
      "metadata": {
        "id": "niXeV3gmVaAu"
      },
      "execution_count": null,
      "outputs": []
    },
    {
      "cell_type": "markdown",
      "source": [
        "Convert dataset into array"
      ],
      "metadata": {
        "id": "jEY1sl-tt8J9"
      }
    },
    {
      "cell_type": "code",
      "source": [
        "#training_set.info()\n",
        "#training_set['Ratings'].astype(float).astype(int)\n",
        "training_set = np.array(training_set, dtype = 'int')\n",
        "test_set = np.array(test_set, dtype = 'int')"
      ],
      "metadata": {
        "colab": {
          "base_uri": "https://localhost:8080/"
        },
        "id": "BGFD1y5_Vee-",
        "outputId": "f9ce6a8e-9eb4-4dad-873a-35196e01bb9e"
      },
      "execution_count": null,
      "outputs": [
        {
          "output_type": "stream",
          "name": "stdout",
          "text": [
            "<class 'pandas.core.frame.DataFrame'>\n",
            "Int64Index: 2068 entries, 11862 to 19683\n",
            "Data columns (total 4 columns):\n",
            " #   Column     Non-Null Count  Dtype  \n",
            "---  ------     --------------  -----  \n",
            " 0   Ratings    2068 non-null   float64\n",
            " 1   Timestamp  2068 non-null   float64\n",
            " 2   productID  2068 non-null   int64  \n",
            " 3   UserID     2068 non-null   int64  \n",
            "dtypes: float64(2), int64(2)\n",
            "memory usage: 80.8 KB\n"
          ]
        }
      ]
    },
    {
      "cell_type": "markdown",
      "source": [
        "Get Total Number of users and products"
      ],
      "metadata": {
        "id": "6OaaqYLquAsl"
      }
    },
    {
      "cell_type": "code",
      "source": [
        "\n",
        "nb_users = int(max(max(training_set[:, 3], ), max(test_set[:, 3])))\n",
        "nb_products = int(max(max(training_set[:, 2], ), max(test_set[:, 2])))"
      ],
      "metadata": {
        "id": "TbALHrKeVo0s"
      },
      "execution_count": null,
      "outputs": []
    },
    {
      "cell_type": "markdown",
      "source": [
        "Converting the data into an array with users in lines and products in columns"
      ],
      "metadata": {
        "id": "6BrYwqbluGUv"
      }
    },
    {
      "cell_type": "code",
      "source": [
        "def convert(data):\n",
        "  new_data = []\n",
        "  for id_users in range(1, nb_users + 1):\n",
        "    id_products = data[:, 2] [data[:, 3] == id_users]\n",
        "    id_ratings = data[:, 1] [data[:, 3] == id_users]\n",
        "    ratings = np.zeros(nb_products)\n",
        "    ratings[id_products - 1] = id_ratings\n",
        "    new_data.append(list(ratings))\n",
        "  return new_data\n",
        "training_set = convert(training_set)\n",
        "test_set = convert(test_set)\n"
      ],
      "metadata": {
        "id": "3EXJ2U60Vw2R"
      },
      "execution_count": null,
      "outputs": []
    },
    {
      "cell_type": "markdown",
      "source": [
        "Converting the data into Torch tensors"
      ],
      "metadata": {
        "id": "qhOC5sdjuP0p"
      }
    },
    {
      "cell_type": "code",
      "source": [
        "training_set = torch.FloatTensor(training_set)\n",
        "test_set = torch.FloatTensor(test_set)"
      ],
      "metadata": {
        "id": "95Y9jMcBV4mP"
      },
      "execution_count": null,
      "outputs": []
    },
    {
      "cell_type": "markdown",
      "source": [
        "Creating the architecture of the Neural Network"
      ],
      "metadata": {
        "id": "_1nXTs_WugFo"
      }
    },
    {
      "cell_type": "code",
      "source": [
        "class SAE(nn.Module):\n",
        "    def __init__(self, ):\n",
        "        super(SAE, self).__init__()\n",
        "        self.fc1 = nn.Linear(nb_products, 20)\n",
        "        self.fc2 = nn.Linear(20, 10)\n",
        "        self.fc3 = nn.Linear(10, 20)\n",
        "        self.fc4 = nn.Linear(20, nb_products)\n",
        "        self.activation = nn.Sigmoid()\n",
        "    def forward(self, x):\n",
        "        x = self.activation(self.fc1(x))\n",
        "        x = self.activation(self.fc2(x))\n",
        "        x = self.activation(self.fc3(x))\n",
        "        x = self.fc4(x)\n",
        "        return x\n",
        "sae = SAE()\n",
        "criterion = nn.MSELoss()\n",
        "optimizer = optim.RMSprop(sae.parameters(), lr = 0.01, weight_decay = 0.5)"
      ],
      "metadata": {
        "id": "W1urkxuFWDmf"
      },
      "execution_count": null,
      "outputs": []
    },
    {
      "cell_type": "markdown",
      "source": [
        "Training the SAE"
      ],
      "metadata": {
        "id": "fB69INoJuqV8"
      }
    },
    {
      "cell_type": "markdown",
      "source": [
        "Testing the SAE"
      ],
      "metadata": {
        "id": "lrQBzU2hux1-"
      }
    },
    {
      "cell_type": "code",
      "source": [
        "nb_epoch = 100\n",
        "for epoch in range(1, nb_epoch + 1):\n",
        "  train_loss = 0\n",
        "  s = 0.\n",
        "  for id_user in range(nb_users):\n",
        "    input = Variable(training_set[id_user]).unsqueeze(0)\n",
        "    target = input.clone()\n",
        "    if torch.sum(target.data > 0) > 0:\n",
        "      output = sae(input)\n",
        "      target.require_grad = False\n",
        "      output[target == 0] = 0\n",
        "      loss = criterion(output, target)\n",
        "      mean_corrector = nb_products/float(torch.sum(target.data > 0) + 1e-10)\n",
        "      loss.backward()\n",
        "      train_loss += np.sqrt(loss.data*mean_corrector)\n",
        "      s += 1.\n",
        "      optimizer.step()\n",
        "  print('epoch: '+str(epoch)+'loss: '+ str(train_loss/s))"
      ],
      "metadata": {
        "colab": {
          "base_uri": "https://localhost:8080/"
        },
        "id": "y5tMWLJlWT4R",
        "outputId": "43f60c79-41ec-41ef-893c-4a1dfc39422b"
      },
      "execution_count": null,
      "outputs": [
        {
          "output_type": "stream",
          "name": "stdout",
          "text": [
            "epoch: 1loss: tensor(1.2341e+09)\n",
            "epoch: 2loss: tensor(1.2341e+09)\n",
            "epoch: 3loss: tensor(1.2341e+09)\n",
            "epoch: 4loss: tensor(1.2341e+09)\n",
            "epoch: 5loss: tensor(1.2341e+09)\n",
            "epoch: 6loss: tensor(1.2341e+09)\n",
            "epoch: 7loss: tensor(1.2341e+09)\n",
            "epoch: 8loss: tensor(1.2341e+09)\n",
            "epoch: 9loss: tensor(1.2341e+09)\n",
            "epoch: 10loss: tensor(1.2341e+09)\n",
            "epoch: 11loss: tensor(1.2341e+09)\n",
            "epoch: 12loss: tensor(1.2341e+09)\n",
            "epoch: 13loss: tensor(1.2341e+09)\n",
            "epoch: 14loss: tensor(1.2341e+09)\n",
            "epoch: 15loss: tensor(1.2341e+09)\n",
            "epoch: 16loss: tensor(1.2341e+09)\n",
            "epoch: 17loss: tensor(1.2341e+09)\n",
            "epoch: 18loss: tensor(1.2341e+09)\n",
            "epoch: 19loss: tensor(1.2341e+09)\n",
            "epoch: 20loss: tensor(1.2341e+09)\n",
            "epoch: 21loss: tensor(1.2341e+09)\n",
            "epoch: 22loss: tensor(1.2341e+09)\n",
            "epoch: 23loss: tensor(1.2341e+09)\n",
            "epoch: 24loss: tensor(1.2341e+09)\n",
            "epoch: 25loss: tensor(1.2341e+09)\n",
            "epoch: 26loss: tensor(1.2341e+09)\n",
            "epoch: 27loss: tensor(1.2341e+09)\n",
            "epoch: 28loss: tensor(1.2341e+09)\n",
            "epoch: 29loss: tensor(1.2341e+09)\n",
            "epoch: 30loss: tensor(1.2341e+09)\n",
            "epoch: 31loss: tensor(1.2341e+09)\n",
            "epoch: 32loss: tensor(1.2341e+09)\n",
            "epoch: 33loss: tensor(1.2341e+09)\n",
            "epoch: 34loss: tensor(1.2341e+09)\n",
            "epoch: 35loss: tensor(1.2341e+09)\n",
            "epoch: 36loss: tensor(1.2341e+09)\n",
            "epoch: 37loss: tensor(1.2341e+09)\n",
            "epoch: 38loss: tensor(1.2341e+09)\n",
            "epoch: 39loss: tensor(1.2341e+09)\n",
            "epoch: 40loss: tensor(1.2341e+09)\n",
            "epoch: 41loss: tensor(1.2341e+09)\n",
            "epoch: 42loss: tensor(1.2341e+09)\n",
            "epoch: 43loss: tensor(1.2341e+09)\n",
            "epoch: 44loss: tensor(1.2341e+09)\n",
            "epoch: 45loss: tensor(1.2341e+09)\n",
            "epoch: 46loss: tensor(1.2341e+09)\n",
            "epoch: 47loss: tensor(1.2341e+09)\n",
            "epoch: 48loss: tensor(1.2341e+09)\n",
            "epoch: 49loss: tensor(1.2341e+09)\n",
            "epoch: 50loss: tensor(1.2341e+09)\n",
            "epoch: 51loss: tensor(1.2341e+09)\n",
            "epoch: 52loss: tensor(1.2341e+09)\n",
            "epoch: 53loss: tensor(1.2341e+09)\n",
            "epoch: 54loss: tensor(1.2341e+09)\n",
            "epoch: 55loss: tensor(1.2341e+09)\n",
            "epoch: 56loss: tensor(1.2341e+09)\n",
            "epoch: 57loss: tensor(1.2341e+09)\n",
            "epoch: 58loss: tensor(1.2341e+09)\n",
            "epoch: 59loss: tensor(1.2341e+09)\n",
            "epoch: 60loss: tensor(1.2341e+09)\n",
            "epoch: 61loss: tensor(1.2341e+09)\n",
            "epoch: 62loss: tensor(1.2341e+09)\n",
            "epoch: 63loss: tensor(1.2341e+09)\n",
            "epoch: 64loss: tensor(1.2341e+09)\n",
            "epoch: 65loss: tensor(1.2341e+09)\n",
            "epoch: 66loss: tensor(1.2341e+09)\n",
            "epoch: 67loss: tensor(1.2341e+09)\n",
            "epoch: 68loss: tensor(1.2341e+09)\n",
            "epoch: 69loss: tensor(1.2341e+09)\n",
            "epoch: 70loss: tensor(1.2341e+09)\n",
            "epoch: 71loss: tensor(1.2341e+09)\n",
            "epoch: 72loss: tensor(1.2341e+09)\n",
            "epoch: 73loss: tensor(1.2341e+09)\n",
            "epoch: 74loss: tensor(1.2341e+09)\n",
            "epoch: 75loss: tensor(1.2341e+09)\n",
            "epoch: 76loss: tensor(1.2341e+09)\n",
            "epoch: 77loss: tensor(1.2341e+09)\n",
            "epoch: 78loss: tensor(1.2341e+09)\n",
            "epoch: 79loss: tensor(1.2341e+09)\n",
            "epoch: 80loss: tensor(1.2341e+09)\n",
            "epoch: 81loss: tensor(1.2341e+09)\n",
            "epoch: 82loss: tensor(1.2341e+09)\n",
            "epoch: 83loss: tensor(1.2341e+09)\n",
            "epoch: 84loss: tensor(1.2341e+09)\n",
            "epoch: 85loss: tensor(1.2341e+09)\n",
            "epoch: 86loss: tensor(1.2341e+09)\n",
            "epoch: 87loss: tensor(1.2341e+09)\n",
            "epoch: 88loss: tensor(1.2341e+09)\n",
            "epoch: 89loss: tensor(1.2341e+09)\n",
            "epoch: 90loss: tensor(1.2340e+09)\n",
            "epoch: 91loss: tensor(1.2340e+09)\n",
            "epoch: 92loss: tensor(1.2340e+09)\n",
            "epoch: 93loss: tensor(1.2340e+09)\n",
            "epoch: 94loss: tensor(1.2340e+09)\n",
            "epoch: 95loss: tensor(1.2340e+09)\n",
            "epoch: 96loss: tensor(1.2340e+09)\n",
            "epoch: 97loss: tensor(1.2340e+09)\n",
            "epoch: 98loss: tensor(1.2340e+09)\n",
            "epoch: 99loss: tensor(1.2340e+09)\n",
            "epoch: 100loss: tensor(1.2340e+09)\n"
          ]
        }
      ]
    },
    {
      "cell_type": "code",
      "source": [
        "test_loss = 0\n",
        "s = 0.\n",
        "for id_user in range(nb_users):\n",
        "  input = Variable(training_set[id_user]).unsqueeze(0)\n",
        "  target = Variable(test_set[id_user]).unsqueeze(0)\n",
        "  if torch.sum(target.data > 0) > 0:\n",
        "    output = sae(input)\n",
        "    target.require_grad = False\n",
        "    output[target == 0] = 0\n",
        "    loss = criterion(output, target)\n",
        "    mean_corrector = nb_products/float(torch.sum(target.data > 0) + 1e-10)\n",
        "    test_loss += np.sqrt(loss.data*mean_corrector)\n",
        "    s += 1.\n",
        "print('test loss: '+str(test_loss/s))"
      ],
      "metadata": {
        "colab": {
          "base_uri": "https://localhost:8080/"
        },
        "id": "kzE-oM6HgQ5Z",
        "outputId": "83d9a163-5402-43c6-ed89-286fc667c9c8"
      },
      "execution_count": null,
      "outputs": [
        {
          "output_type": "stream",
          "name": "stdout",
          "text": [
            "test loss: tensor(1.2315e+09)\n"
          ]
        }
      ]
    },
    {
      "cell_type": "code",
      "source": [
        ""
      ],
      "metadata": {
        "id": "j5cBAS8vjM0m"
      },
      "execution_count": null,
      "outputs": []
    }
  ]
}